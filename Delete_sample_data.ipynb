{
  "nbformat": 4,
  "nbformat_minor": 0,
  "metadata": {
    "colab": {
      "provenance": [],
      "authorship_tag": "ABX9TyOq4l8MLI1PFUYs0hfYqwE6",
      "include_colab_link": true
    },
    "kernelspec": {
      "name": "python3",
      "display_name": "Python 3"
    },
    "language_info": {
      "name": "python"
    }
  },
  "cells": [
    {
      "cell_type": "markdown",
      "metadata": {
        "id": "view-in-github",
        "colab_type": "text"
      },
      "source": [
        "<a href=\"https://colab.research.google.com/github/Sawnann/colab-test/blob/main/Delete_sample_data.ipynb\" target=\"_parent\"><img src=\"https://colab.research.google.com/assets/colab-badge.svg\" alt=\"Open In Colab\"/></a>"
      ]
    },
    {
      "cell_type": "code",
      "execution_count": null,
      "metadata": {
        "colab": {
          "base_uri": "https://localhost:8080/"
        },
        "id": "im9FuirjXqDX",
        "outputId": "28bf3bb5-6a09-4348-8d59-6cac5bc3d253"
      },
      "outputs": [
        {
          "output_type": "stream",
          "name": "stdout",
          "text": [
            "/content/sample_data 已被刪除\n"
          ]
        }
      ],
      "source": [
        "import shutil\n",
        "import os\n",
        "\n",
        "# 定義 sample_data 資料夾的路徑\n",
        "sample_data_path = '/content/sample_data'\n",
        "\n",
        "# 刪除 sample_data 資料夾\n",
        "if os.path.exists(sample_data_path):\n",
        "    shutil.rmtree(sample_data_path)\n",
        "    print(f\"{sample_data_path} 已被刪除\")\n"
      ]
    },
    {
      "cell_type": "code",
      "source": [],
      "metadata": {
        "id": "ZAejADeRX6dq"
      },
      "execution_count": null,
      "outputs": []
    }
  ]
}