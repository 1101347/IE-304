{
  "cells": [
    {
      "cell_type": "markdown",
      "metadata": {
        "id": "view-in-github",
        "colab_type": "text"
      },
      "source": [
        "<a href=\"https://colab.research.google.com/github/IE-304/IE-304/blob/main/3.0_ASA_InferentialSTAT.ipynb\" target=\"_parent\"><img src=\"https://colab.research.google.com/assets/colab-badge.svg\" alt=\"Open In Colab\"/></a>"
      ]
    },
    {
      "cell_type": "code",
      "execution_count": 1,
      "id": "e4e650d3",
      "metadata": {
        "colab": {
          "base_uri": "https://localhost:8080/"
        },
        "id": "e4e650d3",
        "outputId": "b8e1e8cd-ef9b-4883-bfcb-ea171bcef1a7"
      },
      "outputs": [
        {
          "output_type": "stream",
          "name": "stdout",
          "text": [
            "           Index          G1          G2          G3         G4         G5  \\\n",
            "count  60.000000   60.000000   60.000000   60.000000  60.000000  60.000000   \n",
            "mean   30.500000   99.836317  100.872469  100.213728   0.212333   0.199500   \n",
            "std    17.464249    2.135675    2.111283    1.746475   0.021183   0.019347   \n",
            "min     1.000000   93.824981   95.395855   95.701159   0.160000   0.160000   \n",
            "25%    15.750000   98.575206   99.597364   99.108241   0.190000   0.180000   \n",
            "50%    30.500000  100.048558  100.843501  100.131038   0.220000   0.210000   \n",
            "75%    45.250000  101.054430  102.100939  101.421040   0.230000   0.220000   \n",
            "max    60.000000  105.918520  106.888779  104.386551   0.240000   0.220000   \n",
            "\n",
            "              G6         G7  \n",
            "count  60.000000  60.000000  \n",
            "mean    6.300000   8.800000  \n",
            "std     2.566406   2.898275  \n",
            "min     0.000000   3.000000  \n",
            "25%     5.000000   7.000000  \n",
            "50%     6.000000   9.000000  \n",
            "75%     8.000000  10.000000  \n",
            "max    12.000000  16.000000  \n"
          ]
        }
      ],
      "source": [
        "\"\"\"\n",
        "Created on Sat Jan 20 18:38:15 2018\n",
        "\n",
        "@author: ieccheng\n",
        "\"\"\"\n",
        "import numpy as np\n",
        "import pandas as pd\n",
        "import statsmodels\n",
        "import statsmodels.api as sm\n",
        "import statsmodels.stats as sms\n",
        "import statsmodels.graphics.api as smg\n",
        "import matplotlib.pyplot as plt     #載入畫圖套件\n",
        "FS=16\n",
        "df = pd.read_csv('https://raw.githubusercontent.com/IE-304/IE-304/refs/heads/main/3.1_ASA3.csv')\n",
        "data=df.to_numpy()\n",
        "print(df.describe())"
      ]
    },
    {
      "cell_type": "code",
      "execution_count": 2,
      "id": "daa10e4f",
      "metadata": {
        "colab": {
          "base_uri": "https://localhost:8080/"
        },
        "id": "daa10e4f",
        "outputId": "10e7d494-99ee-440a-c0bf-d1a502720f71"
      },
      "outputs": [
        {
          "output_type": "stream",
          "name": "stdout",
          "text": [
            " Descriptive Statistics \n",
            "========================\n",
            "nobs                  60\n",
            "missing                0\n",
            "mean               99.84\n",
            "std_err           0.2757\n",
            "upper_ci           100.4\n",
            "lower_ci           99.28\n",
            "std                2.136\n",
            "iqr                2.479\n",
            "iqr_normal         1.838\n",
            "mad                  1.6\n",
            "mad_normal         2.006\n",
            "coef_var         0.02139\n",
            "range              12.09\n",
            "max                105.9\n",
            "min                93.82\n",
            "skew             -0.1815\n",
            "kurtosis           3.938\n",
            "jarque_bera         2.53\n",
            "jarque_bera_pval  0.2822\n",
            "mode               93.82\n",
            "mode_freq        0.01667\n",
            "median               100\n",
            "1%                 94.57\n",
            "5%                 95.74\n",
            "10%                 97.4\n",
            "25%                98.58\n",
            "50%                  100\n",
            "75%                101.1\n",
            "90%                102.1\n",
            "95%                102.5\n",
            "99%                105.1\n",
            "------------------------\n",
            "<statsmodels.stats.weightstats.DescrStatsW object at 0x7d3225a280a0>\n"
          ]
        }
      ],
      "source": [
        "# Test 1\n",
        "# One-sample t test\n",
        "from statsmodels.stats.weightstats import CompareMeans\n",
        "from statsmodels.stats.weightstats import DescrStatsW\n",
        "#from statsmodels.stats import descriptivestats\n",
        "res1=sms.descriptivestats.describe(df[\"G1\"], stats=None, numeric=True, categorical=False,\n",
        "         alpha=0.05, use_t=True,\n",
        "         percentiles=(1, 5, 10, 25, 50, 75, 90, 95, 99), ntop=5)\n",
        "res2=sms.descriptivestats.Description(df[\"G1\"], stats=None, numeric=True, categorical=False,\n",
        "         alpha=0.05, use_t=True,\n",
        "         percentiles=(1, 5, 10, 25, 50, 75, 90, 95, 99), ntop=5)\n",
        "print(res2.summary())\n",
        "x1=DescrStatsW(data[0:,1])\n",
        "print(x1)"
      ]
    },
    {
      "cell_type": "code",
      "execution_count": 5,
      "id": "0f71467a",
      "metadata": {
        "colab": {
          "base_uri": "https://localhost:8080/"
        },
        "id": "0f71467a",
        "outputId": "a4787237-8e68-4f33-afed-0cbfafd865e4"
      },
      "outputs": [
        {
          "output_type": "stream",
          "name": "stdout",
          "text": [
            "One sample t test: t-value, p-value, df: (-0.5936690498275857, 0.5550028090429002, 59.0)\n",
            "One sample z test: t-value, p-value, df: (-0.5936690498275857, 0.5527334876764232)\n",
            "Two-sample t test: t-value, p-value, df: (-2.672568466501361, 0.008592543481943406, 118.0)\n"
          ]
        }
      ],
      "source": [
        "# Test 2\n",
        "# Two-sample t test\n",
        "# Method 1\n",
        "res3=x1.ttest_mean(value=100, alternative='two-sided') #value=hypothesized mean\n",
        "res4=x1.ztest_mean(value=100, alternative='two-sided')\n",
        "print(\"One sample t test: t-value, p-value, df:\", res3)\n",
        "print(\"One sample z test: t-value, p-value, df:\", res4)\n",
        "x1=DescrStatsW(data[0:,1]); x2=DescrStatsW(data[0:,2])\n",
        "res5= CompareMeans(x1, x2).ttest_ind(alternative='two-sided',\n",
        "                       usevar='pooled', value=0) #usevar='unequal'\n",
        "print(\"Two-sample t test: t-value, p-value, df:\", res5)"
      ]
    },
    {
      "cell_type": "code",
      "execution_count": 9,
      "id": "7d42a5ef",
      "metadata": {
        "colab": {
          "base_uri": "https://localhost:8080/"
        },
        "id": "7d42a5ef",
        "outputId": "51e7bdd2-54bf-487e-b994-2ef8ea5019ef"
      },
      "outputs": [
        {
          "output_type": "stream",
          "name": "stdout",
          "text": [
            "\n",
            "2T test statistic:-2.6726\n",
            "P-Value:0.0086\n",
            "DF:118\n"
          ]
        }
      ],
      "source": [
        "# Test 3\n",
        "# 2-sample t test\n",
        "# Method 2\n",
        "[tstat2T, pvalue2T, df2T]=sm.stats.ttest_ind(data[:,1],data[:,2],\n",
        "                     alternative='two-sided', usevar='pooled')\n",
        "#alternative='larger' or 'smaller'\n",
        "#usevar=‘pooled’ or ‘unequal’\n",
        "print('\\n2T test statistic:%.4f' % tstat2T)\n",
        "print ('P-Value:%.4f' % pvalue2T)\n",
        "print ('DF:%.d' % df2T)"
      ]
    },
    {
      "cell_type": "code",
      "execution_count": 7,
      "id": "b590efda",
      "metadata": {
        "colab": {
          "base_uri": "https://localhost:8080/"
        },
        "id": "b590efda",
        "outputId": "15a6fd8d-bd6d-49ba-b4f9-7c58a5568d38"
      },
      "outputs": [
        {
          "output_type": "stream",
          "name": "stdout",
          "text": [
            "\n",
            "One proportion test statistic:0.4281\n",
            "P-Value:0.6686\n"
          ]
        }
      ],
      "source": [
        "# Test 4\n",
        "from statsmodels.stats.proportion import proportions_ztest\n",
        "\n",
        "# One Proportion test; Normal approximation method\n",
        "p0=0.05 # Hypothesized proportion\n",
        "stat, pvalue = proportions_ztest(count=5, nobs=83, value=p0,\n",
        "            alternative='two-sided', prop_var=p0)\n",
        "print('\\nOne proportion test statistic:%.4f' % stat)\n",
        "print ('P-Value:%.4f' % pvalue)\n"
      ]
    },
    {
      "cell_type": "code",
      "execution_count": 10,
      "id": "2580c926",
      "metadata": {
        "colab": {
          "base_uri": "https://localhost:8080/"
        },
        "id": "2580c926",
        "outputId": "b49bcacf-6384-4bc4-d959-f97d44ee7888"
      },
      "outputs": [
        {
          "output_type": "stream",
          "name": "stdout",
          "text": [
            "\n",
            "Two proportions test statistic:-1.4078\n",
            "P-Value:0.1592\n"
          ]
        }
      ],
      "source": [
        "# Test 5\n",
        "# Two Proportions test\n",
        "# Use the pooled estimate of the proportion\n",
        "count = np.array([5, 12]) #d1, d2\n",
        "nobs = np.array([83, 99]) #n1, n2\n",
        "stat, pvalue = proportions_ztest(count, nobs, alternative='two-sided')\n",
        "print('\\nTwo proportions test statistic:%.4f' % stat)\n",
        "print ('P-Value:%.4f' % pvalue)"
      ]
    },
    {
      "cell_type": "code",
      "source": [
        "# Test 6\n",
        "\n",
        "# One Poisson test\n",
        "from statsmodels.stats.rates import test_poisson\n",
        "count=60; nobs=20; value=2.5\n",
        "stat, pvalue = test_poisson(count, nobs, value, method='score',\n",
        "          alternative='two-sided', dispersion=1)\n",
        "print('\\nOne Poisson test statistic:%.4f' % stat)\n",
        "print ('P-Value:%.4f' % pvalue)"
      ],
      "metadata": {
        "colab": {
          "base_uri": "https://localhost:8080/"
        },
        "id": "64W5MduJSb_F",
        "outputId": "18c7c50d-591f-473f-8feb-8b00a08b5f51"
      },
      "id": "64W5MduJSb_F",
      "execution_count": 12,
      "outputs": [
        {
          "output_type": "stream",
          "name": "stdout",
          "text": [
            "\n",
            "One Poisson test statistic:1.4142\n",
            "P-Value:0.1573\n"
          ]
        }
      ]
    },
    {
      "cell_type": "code",
      "source": [
        "# Test 7\n",
        "\n",
        "#Two Poissons test\n",
        "from statsmodels.stats.rates import test_poisson_2indep\n",
        "count1=60; count2=50; exposure1=10; exposure2=20\n",
        "stat, pvalue = test_poisson_2indep(count1, exposure1,\n",
        "        count2, exposure2, value=0, ratio_null=None,\n",
        "        method='score', compare='diff', alternative='two-sided', etest_kwds=None)\n",
        "print('\\nTWo Poissons test statistic:%.4f' % stat)\n",
        "print ('P-Value:%.4f' % pvalue)\n"
      ],
      "metadata": {
        "colab": {
          "base_uri": "https://localhost:8080/"
        },
        "id": "ARuY4MjkSb2x",
        "outputId": "80603e36-c01b-453a-ffbf-0c2be246d8f0"
      },
      "id": "ARuY4MjkSb2x",
      "execution_count": 13,
      "outputs": [
        {
          "output_type": "stream",
          "name": "stdout",
          "text": [
            "\n",
            "TWo Poissons test statistic:4.7194\n",
            "P-Value:0.0000\n"
          ]
        }
      ]
    },
    {
      "cell_type": "code",
      "source": [
        "# Test 8\n",
        "#Chi-Square Test\n",
        "\n",
        "import statsmodels.stats.proportion as ssp\n",
        "# Two proportions test with alternative='two-sided'\n",
        "#\n",
        "count =np.array([3, 5])\n",
        "nobs = np.array([100, 120])\n",
        "Chisq, pvalue, table = ssp.proportions_chisquare(count, nobs)\n",
        "print('Chisq test statistic: %.4f' %Chisq)\n",
        "print('Chisq test P-Value: %.4f' %pvalue)"
      ],
      "metadata": {
        "colab": {
          "base_uri": "https://localhost:8080/"
        },
        "id": "3jrnkh_JSbvI",
        "outputId": "99b36f2d-3ef2-486d-f363-ed6289eaefe5"
      },
      "id": "3jrnkh_JSbvI",
      "execution_count": 14,
      "outputs": [
        {
          "output_type": "stream",
          "name": "stdout",
          "text": [
            "Chisq test statistic: 0.2119\n",
            "Chisq test P-Value: 0.6453\n"
          ]
        }
      ]
    },
    {
      "cell_type": "code",
      "source": [
        "# Test 9\n",
        "# Multiple proportions test with alternative='two-sided'\n",
        "count =np.array([3, 5, 2])\n",
        "nobs = np.array([100, 100, 100])\n",
        "Chisq, pvalue, table = ssp.proportions_chisquare(count, nobs)\n",
        "print('Chisq test statistic: %.4f' %Chisq)\n",
        "print('Chisq test P-Value: %.4f' %pvalue)"
      ],
      "metadata": {
        "colab": {
          "base_uri": "https://localhost:8080/"
        },
        "id": "1ggPNWvLSblp",
        "outputId": "8637f339-3b74-4372-c078-22e7634f6110"
      },
      "id": "1ggPNWvLSblp",
      "execution_count": 15,
      "outputs": [
        {
          "output_type": "stream",
          "name": "stdout",
          "text": [
            "Chisq test statistic: 1.4483\n",
            "Chisq test P-Value: 0.4847\n"
          ]
        }
      ]
    },
    {
      "cell_type": "code",
      "execution_count": 18,
      "id": "a9c5f33c",
      "metadata": {
        "colab": {
          "base_uri": "https://localhost:8080/"
        },
        "id": "a9c5f33c",
        "outputId": "f6e19ac2-264c-42ae-cd75-e27ed742042b"
      },
      "outputs": [
        {
          "output_type": "stream",
          "name": "stdout",
          "text": [
            "Chi-square statistic:11.7877\n",
            "P-Value:0.0190\n"
          ]
        }
      ],
      "source": [
        "# Test 10\n",
        "\n",
        "#Chi-Square Test for Association\n",
        "import numpy as np\n",
        "import pandas as pd\n",
        "import statsmodels.api as sm\n",
        "\n",
        "df = pd.read_csv('https://raw.githubusercontent.com/IE-304/IE-304/refs/heads/main/3.2_ASA7.csv')\n",
        "tab=df\n",
        "table = sm.stats.Table(tab)\n",
        "rslt = table.test_nominal_association()\n",
        "print('Chi-square statistic:%.4f' % rslt.statistic)\n",
        "print('P-Value:%.4f' % rslt.pvalue)\n"
      ]
    }
  ],
  "metadata": {
    "jupytext": {
      "cell_metadata_filter": "-all",
      "main_language": "python",
      "notebook_metadata_filter": "-all"
    },
    "colab": {
      "provenance": [],
      "include_colab_link": true
    },
    "language_info": {
      "name": "python"
    },
    "kernelspec": {
      "name": "python3",
      "display_name": "Python 3"
    }
  },
  "nbformat": 4,
  "nbformat_minor": 5
}