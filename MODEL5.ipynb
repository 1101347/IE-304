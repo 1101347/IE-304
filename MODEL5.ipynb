{
  "cells": [
    {
      "cell_type": "markdown",
      "metadata": {
        "id": "view-in-github",
        "colab_type": "text"
      },
      "source": [
        "<a href=\"https://colab.research.google.com/github/Sawnann/colab-test/blob/main/MODEL5.ipynb\" target=\"_parent\"><img src=\"https://colab.research.google.com/assets/colab-badge.svg\" alt=\"Open In Colab\"/></a>"
      ]
    },
    {
      "cell_type": "code",
      "execution_count": null,
      "id": "f4c89148",
      "metadata": {
        "id": "f4c89148"
      },
      "outputs": [],
      "source": [
        "import tensorflow as tf\n",
        "from tensorflow.keras.models import Sequential\n",
        "from tensorflow.keras.layers import Dense, Dropout\n",
        "from tensorflow.keras.layers import LSTM, Conv1D\n",
        "tf.random.set_seed(0)\n",
        "from matplotlib import pyplot as plt\n",
        "import numpy as np\n",
        "import pandas as pd\n",
        "from sklearn.metrics import mean_squared_error, mean_absolute_error, mean_absolute_percentage_error"
      ]
    },
    {
      "cell_type": "code",
      "execution_count": null,
      "id": "cfadd70b",
      "metadata": {
        "id": "cfadd70b"
      },
      "outputs": [],
      "source": [
        "# Dataset\n",
        "df = pd.read_csv('beer.csv')\n",
        "#print(df.head(3))\n",
        "#print('size of dataset:', len(df))"
      ]
    },
    {
      "cell_type": "code",
      "execution_count": null,
      "id": "acc6c900",
      "metadata": {
        "id": "acc6c900"
      },
      "outputs": [],
      "source": [
        "df['Month'] = pd.to_datetime(df['Month'])\n",
        "df.set_index('Month', inplace= True)"
      ]
    },
    {
      "cell_type": "code",
      "execution_count": null,
      "id": "3123127e",
      "metadata": {
        "id": "3123127e"
      },
      "outputs": [],
      "source": [
        "# Plot the Series to see Trend and Seasonality\n",
        "'''from matplotlib import pyplot as plt\n",
        "f = plt.figure()\n",
        "f.set_figwidth(13)\n",
        "f.set_figheight(5)\n",
        "plt.plot(df['deg'], linewidth = 3, label = \"Original Series\")\n",
        "plt.legend(fontsize=18, loc='best', shadow=True)\n",
        "plt.xlabel('Year', fontsize = 22)\n",
        "plt.ylabel('Count', fontsize = 22)'''"
      ]
    },
    {
      "cell_type": "markdown",
      "id": "e935f96b",
      "metadata": {
        "id": "e935f96b"
      },
      "source": [
        "elec\n",
        "plt.ylim(14000,28000)\n",
        "plt.yticks([15000,20000,25000])"
      ]
    },
    {
      "cell_type": "markdown",
      "id": "d4f8a436",
      "metadata": {
        "id": "d4f8a436"
      },
      "source": [
        "temp\n",
        "plt.ylim(10,35)\n",
        "plt.yticks([10,20,30])"
      ]
    },
    {
      "cell_type": "markdown",
      "id": "5d432f71",
      "metadata": {
        "id": "5d432f71"
      },
      "source": [
        "beer\n",
        "plt.ylim(50,230)\n",
        "plt.yticks([50,100,150,200])"
      ]
    },
    {
      "cell_type": "markdown",
      "id": "97c5eb03",
      "metadata": {
        "lines_to_next_cell": 2,
        "id": "97c5eb03"
      },
      "source": [
        "plt.show()"
      ]
    },
    {
      "cell_type": "code",
      "execution_count": null,
      "id": "980e7622",
      "metadata": {
        "lines_to_next_cell": 1,
        "id": "980e7622"
      },
      "outputs": [],
      "source": [
        "# Convert it into a Sequence to Sequence Prediction Problem\n",
        "def Tranform_dataset(input_length, output_length, data):\n",
        "    df = data.copy()\n",
        "\n",
        "    #input columns creation\n",
        "    i = 0\n",
        "    while i < input_length:\n",
        "        df[f'x_{i}'] = df['deg'].shift(-i)\n",
        "        i = i + 1\n",
        "\n",
        "    #output columns creations\n",
        "    j = 0\n",
        "    while j < output_length:\n",
        "        df[f'y_{j}'] = df['deg'].shift(-output_length-j)\n",
        "        j = j + 1\n",
        "\n",
        "    #drop some of the last columns\n",
        "    df = df.dropna(axis=0)\n",
        "\n",
        "    return df"
      ]
    },
    {
      "cell_type": "code",
      "execution_count": null,
      "id": "a66b8b54",
      "metadata": {
        "id": "a66b8b54"
      },
      "outputs": [],
      "source": [
        "history = 6 #last values used by model\n",
        "future = 6 #predict future values"
      ]
    },
    {
      "cell_type": "code",
      "execution_count": null,
      "id": "97db0ce3",
      "metadata": {
        "id": "97db0ce3"
      },
      "outputs": [],
      "source": [
        "#轉換資料型態 將history(12筆特徵值(x)+6筆標籤答案(y)變成一筆row data來訓練\n",
        "full_data = Tranform_dataset(history, future, df)\n",
        "print(len(full_data))\n",
        "print(full_data.head(3))"
      ]
    },
    {
      "cell_type": "code",
      "execution_count": null,
      "id": "86d18afe",
      "metadata": {
        "id": "86d18afe"
      },
      "outputs": [],
      "source": [
        "#用x及y做區分去input及output\n",
        "X_cols = [col for col in full_data.columns if col.startswith('x')]\n",
        "y_cols = [col for col in full_data.columns if col.startswith('y')]"
      ]
    },
    {
      "cell_type": "code",
      "execution_count": null,
      "id": "ff74bd39",
      "metadata": {
        "id": "ff74bd39"
      },
      "outputs": [],
      "source": [
        "X = full_data[X_cols].values\n",
        "y = full_data[y_cols].values\n",
        "print(X.shape, y.shape)"
      ]
    },
    {
      "cell_type": "code",
      "execution_count": null,
      "id": "eb555083",
      "metadata": {
        "id": "eb555083"
      },
      "outputs": [],
      "source": [
        "#資料訓練的分割\n",
        "from sklearn.model_selection import train_test_split\n",
        "X_train, X_test, y_train, y_test = train_test_split(X, y, test_size=0.2, random_state=42, shuffle=False)"
      ]
    },
    {
      "cell_type": "code",
      "execution_count": null,
      "id": "a48cfe72",
      "metadata": {
        "id": "a48cfe72"
      },
      "outputs": [],
      "source": [
        "X_train = X_train.reshape(X_train.shape[0], history, 1)\n",
        "X_test = X_test.reshape(X_test.shape[0], history, 1)\n",
        "print(X_train.shape, X_test.shape)"
      ]
    },
    {
      "cell_type": "code",
      "execution_count": null,
      "id": "f72f9704",
      "metadata": {
        "id": "f72f9704"
      },
      "outputs": [],
      "source": [
        "# Study Two Different LSTM Model\n",
        "def get_model_cnn_lstm(history, future):\n",
        "    model = Sequential()\n",
        "    model.add(tf.keras.Input(shape=(X_train.shape[1], X_train.shape[2])))\n",
        "    model.add(tf.keras.layers.Conv1D(filters=16, kernel_size=3, activation='relu'))\n",
        "    model.add(LSTM(16, return_sequences=True, activation='relu'))\n",
        "    model.add(LSTM(16, return_sequences=False, activation='relu'))\n",
        "    model.add(Dense(future))\n",
        "    model.compile(loss='mean_squared_error', optimizer='adam')\n",
        "    return model\n",
        "model_cnnlstm = get_model_cnn_lstm(history, future)\n",
        "model_cnnlstm.summary()"
      ]
    },
    {
      "cell_type": "code",
      "execution_count": null,
      "id": "482b79b0",
      "metadata": {
        "id": "482b79b0"
      },
      "outputs": [],
      "source": [
        "filepath = 'CNN_LSTM.hdf5'\n",
        "checkpoint_cnn_lstm = tf.keras.callbacks.ModelCheckpoint(filepath=filepath,\n",
        "                             monitor='val_loss',\n",
        "                             verbose=0,\n",
        "                             save_best_only=True,\n",
        "                             mode='min')\n",
        "callbacks_cnn_lstm = [checkpoint_cnn_lstm]"
      ]
    },
    {
      "cell_type": "code",
      "execution_count": null,
      "id": "171aa0c5",
      "metadata": {
        "lines_to_next_cell": 2,
        "id": "171aa0c5"
      },
      "outputs": [],
      "source": [
        "hist_cnn_lstm = model_cnnlstm.fit(X_train, y_train, epochs=50, batch_size=32, verbose=2, validation_data=(X_test, y_test),\n",
        "                 shuffle=True, callbacks = callbacks_cnn_lstm)"
      ]
    },
    {
      "cell_type": "code",
      "execution_count": null,
      "id": "873932f1",
      "metadata": {
        "lines_to_next_cell": 2,
        "id": "873932f1"
      },
      "outputs": [],
      "source": [
        "#indicate training loss(LSTM_CNN)\n",
        "fig = plt.figure(figsize=(13,5))\n",
        "plt.rcParams.update({'font.size': 18})\n",
        "plt.plot(hist_cnn_lstm.history['val_loss'], label = \"Loss CNN LSTM\", lw=3)\n",
        "plt.xlabel(\"Iterations\", fontsize=20)\n",
        "plt.ylabel(\"Loss\", fontsize=20)\n",
        "plt.legend(fontsize = 18, loc='best', shadow=True)\n",
        "plt.show()"
      ]
    },
    {
      "cell_type": "code",
      "execution_count": null,
      "id": "782df128",
      "metadata": {
        "id": "782df128"
      },
      "outputs": [],
      "source": [
        "# Get predictions on all the data\n",
        "model_cnnlstm.load_weights('CNN_LSTM.hdf5')\n",
        "y_pred_cnn_lstm = model_cnnlstm.predict(X.reshape(X.shape[0], history, 1))\n",
        "pred_cnn_lstm = []\n",
        "truth = []"
      ]
    },
    {
      "cell_type": "code",
      "execution_count": null,
      "id": "c651c754",
      "metadata": {
        "id": "c651c754"
      },
      "outputs": [],
      "source": [
        "for i in range(len(y_pred_cnn_lstm)):\n",
        "    if i==(len(y_pred_cnn_lstm)-1):\n",
        "        for j in range(len(y_pred_cnn_lstm[i])):\n",
        "            pred_cnn_lstm.append(y_pred_cnn_lstm[i][j])\n",
        "            truth.append(y[i][j])\n",
        "    else:\n",
        "        pred_cnn_lstm.append(y_pred_cnn_lstm[i][0])\n",
        "        truth.append(y[i][0])"
      ]
    },
    {
      "cell_type": "code",
      "execution_count": null,
      "id": "7b182a02",
      "metadata": {
        "id": "7b182a02"
      },
      "outputs": [],
      "source": [
        "# F9\n",
        "fig= plt.figure(figsize=(13,5))\n",
        "plt.rcParams.update({'font.size': 18})"
      ]
    },
    {
      "cell_type": "code",
      "execution_count": null,
      "id": "e397e6da",
      "metadata": {
        "id": "e397e6da"
      },
      "outputs": [],
      "source": [
        "months = [i for i in range(len(truth))]\n",
        "years= df.index\n",
        "year_starts = [i for i in range(0, len(truth), 60)] #elec:24; temp:120; beer:60;\n",
        "year_labels = [str(years[i].year) for i in year_starts]"
      ]
    },
    {
      "cell_type": "code",
      "execution_count": null,
      "id": "33cc5084",
      "metadata": {
        "id": "33cc5084"
      },
      "outputs": [],
      "source": [
        "plt.plot(months[0:len(y_train)], truth[0:len(y_train)],label='Train Data', lw=3)\n",
        "plt.plot(months[len(y_train):], truth[len(y_train):],label='Test Data', lw=3)"
      ]
    },
    {
      "cell_type": "code",
      "execution_count": null,
      "id": "a8a3c1ee",
      "metadata": {
        "id": "a8a3c1ee"
      },
      "outputs": [],
      "source": [
        "plt.plot(pred_cnn_lstm,label='CNN_LSTM Predictions', lw=3, linestyle='dashed')"
      ]
    },
    {
      "cell_type": "code",
      "execution_count": null,
      "id": "e60f453b",
      "metadata": {
        "id": "e60f453b"
      },
      "outputs": [],
      "source": [
        "#elec\n",
        "# plt.vlines(x=len(y_train), ymin= 12000, ymax = 28000, lw=3, linestyle='dashed', color='r')\n",
        "#temp\n",
        "# plt.vlines(x=len(y_train), ymin= 5, ymax = 35, lw=3, linestyle='dashed', color='r')\n",
        "#beer\n",
        "plt.vlines(x=len(y_train), ymin= 50, ymax = 230, lw=3, linestyle='dashed', color='r')"
      ]
    },
    {
      "cell_type": "code",
      "execution_count": null,
      "id": "3dc03864",
      "metadata": {
        "id": "3dc03864"
      },
      "outputs": [],
      "source": [
        "plt.xlabel('Year', fontsize = 20)\n",
        "plt.ylabel('Count', fontsize = 20)\n",
        "plt.xticks(year_starts, year_labels)\n",
        "plt.legend(fontsize = 18, loc='lower right', shadow=True)\n",
        "plt.show()"
      ]
    },
    {
      "cell_type": "code",
      "execution_count": null,
      "id": "bfb10949",
      "metadata": {
        "id": "bfb10949"
      },
      "outputs": [],
      "source": [
        "#績效\n",
        "mae = mean_absolute_error(truth[len(y_train):], pred_cnn_lstm[-98:]) # 44; 145; 93\n",
        "mse = mean_squared_error(truth[len(y_train):], pred_cnn_lstm[-98:])\n",
        "mape = mean_absolute_percentage_error(truth[len(y_train):], pred_cnn_lstm[-98:])"
      ]
    },
    {
      "cell_type": "code",
      "execution_count": null,
      "id": "5519aa68",
      "metadata": {
        "id": "5519aa68"
      },
      "outputs": [],
      "source": [
        "print(f\"Mean squared error: {mse:.4f}\")\n",
        "print(f\"Mean absolute error: {mae:.4f}\")\n",
        "print(f\"Mean absolute percentage error: {mape:.4f}\")"
      ]
    }
  ],
  "metadata": {
    "jupytext": {
      "cell_metadata_filter": "-all",
      "encoding": "# -*- coding: utf-8 -*-",
      "main_language": "python",
      "notebook_metadata_filter": "-all"
    },
    "colab": {
      "provenance": [],
      "include_colab_link": true
    }
  },
  "nbformat": 4,
  "nbformat_minor": 5
}