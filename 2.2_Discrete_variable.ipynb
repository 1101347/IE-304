{
  "cells": [
    {
      "cell_type": "markdown",
      "metadata": {
        "id": "view-in-github",
        "colab_type": "text"
      },
      "source": [
        "<a href=\"https://colab.research.google.com/github/IE-304/IE-304/blob/main/2.2_Discrete_variable.ipynb\" target=\"_parent\"><img src=\"https://colab.research.google.com/assets/colab-badge.svg\" alt=\"Open In Colab\"/></a>"
      ]
    },
    {
      "cell_type": "code",
      "execution_count": null,
      "id": "a42975cb",
      "metadata": {
        "id": "a42975cb"
      },
      "outputs": [],
      "source": [
        "\"\"\"\n",
        "Created on Sat Sep  7 09:34:51 2024\n",
        "\n",
        "@author: Dr. Chuen-Sheng Cheng\n",
        "\"\"\""
      ]
    },
    {
      "cell_type": "code",
      "execution_count": null,
      "id": "47d9496e",
      "metadata": {
        "id": "47d9496e"
      },
      "outputs": [],
      "source": [
        "import numpy as np\n",
        "from matplotlib import pyplot as plt"
      ]
    },
    {
      "cell_type": "code",
      "execution_count": null,
      "id": "993f16f0",
      "metadata": {
        "id": "993f16f0"
      },
      "outputs": [],
      "source": [
        "# Generating Binomial random variates\n",
        "fig, ax = plt.subplots(2, 3, figsize =(6, 4))\n",
        "plt.subplots_adjust(top=0.85, right=1.0, hspace=0.5, wspace=0.6)\n",
        "bins=10\n",
        "numN = [10, 20, 30, 100, 500, 1000]\n",
        "k = 0\n",
        "for i in range(0, 2):\n",
        "    for j in range(0, 3):\n",
        "        # Histogram for each x stored in means\n",
        "        Binom_data=np.random.binomial(n=numN[k], p=0.02, size=100000)\n",
        "        ax[i, j].hist(Binom_data, bins, density = True)\n",
        "        ax[i, j].set_title(label = 'n = '+str(numN[k]), fontsize=12, loc='center', pad=5)\n",
        "        ax[i, j].tick_params(axis='both', labelsize=10)\n",
        "        k = k + 1\n",
        "plt.suptitle('Binomial distribution, p=0.02', fontsize=16)\n",
        "plt.show()"
      ]
    },
    {
      "cell_type": "code",
      "execution_count": null,
      "id": "8b6f5e71",
      "metadata": {
        "id": "8b6f5e71"
      },
      "outputs": [],
      "source": [
        "# Generating Poisson random variates\n",
        "fig, ax = plt.subplots(3, 3, figsize =(6, 6))\n",
        "plt.subplots_adjust(top=0.88, right=1.0, hspace=0.5, wspace=0.6)\n",
        "bins=10\n",
        "numL = [2, 5, 10, 15, 20, 30, 50, 100, 1000]\n",
        "k = 0\n",
        "for i in range(0, 3):\n",
        "    for j in range(0, 3):\n",
        "        # Histogram for each x stored in means\n",
        "        Poisson_data=np.random.poisson(lam=numL[k], size=100000)\n",
        "        ax[i, j].hist(Poisson_data, bins, density = True)\n",
        "        ax[i, j].set_title(label = 'Lambda = '+str(numL[k]), fontsize=12, loc='center', pad=5)\n",
        "        ax[i, j].tick_params(axis='both', labelsize=10)\n",
        "        k = k + 1\n",
        "plt.suptitle('Poisson distribution', fontsize=16)\n",
        "plt.show()"
      ]
    },
    {
      "cell_type": "code",
      "execution_count": null,
      "id": "e57ae556",
      "metadata": {
        "id": "e57ae556"
      },
      "outputs": [],
      "source": [
        "# Generating Binomial random variates\n",
        "fig, ax = plt.subplots(5, 5, figsize =(12, 12))\n",
        "plt.subplots_adjust(top=0.92, right=1.0, hspace=0.6, wspace=0.4)\n",
        "bins=9\n",
        "numN = [10, 50, 100, 500, 1000]\n",
        "numP = [0.01, 0.02, 0.5, 0.98, 0.99]\n",
        "for i in range(0, 5):\n",
        "    for j in range(0, 5):\n",
        "        Binom_data=np.random.binomial(n=numN[i], p=numP[j], size=100000)\n",
        "        ax[i, j].hist(Binom_data, bins, density = True)\n",
        "        ax[i, j].set_title(label = 'n='+str(numN[i])+', p='+str(numP[j]), fontsize=12, loc='center', pad=5)\n",
        "        ax[i, j].tick_params(axis='both', labelsize=10)\n",
        "plt.suptitle('Binomial distribution with varying n and p', fontsize=16)\n",
        "plt.show()"
      ]
    },
    {
      "cell_type": "code",
      "execution_count": null,
      "id": "beb819fd",
      "metadata": {
        "id": "beb819fd"
      },
      "outputs": [],
      "source": []
    }
  ],
  "metadata": {
    "jupytext": {
      "cell_metadata_filter": "-all",
      "encoding": "# -*- coding: utf-8 -*-",
      "main_language": "python",
      "notebook_metadata_filter": "-all"
    },
    "colab": {
      "provenance": [],
      "include_colab_link": true
    }
  },
  "nbformat": 4,
  "nbformat_minor": 5
}
